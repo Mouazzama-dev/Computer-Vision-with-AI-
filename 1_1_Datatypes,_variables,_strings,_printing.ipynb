{
  "nbformat": 4,
  "nbformat_minor": 0,
  "metadata": {
    "anaconda-cloud": {
      "environment": null,
      "summary": "Python Crash Course"
    },
    "kernelspec": {
      "display_name": "Python 3",
      "language": "python",
      "name": "python3"
    },
    "language_info": {
      "codemirror_mode": {
        "name": "ipython",
        "version": 3
      },
      "file_extension": ".py",
      "mimetype": "text/x-python",
      "name": "python",
      "nbconvert_exporter": "python",
      "pygments_lexer": "ipython3",
      "version": "3.7.3"
    },
    "colab": {
      "name": "1.1 Datatypes, variables, strings, printing.ipynb",
      "provenance": [],
      "include_colab_link": true
    }
  },
  "cells": [
    {
      "cell_type": "markdown",
      "metadata": {
        "id": "view-in-github",
        "colab_type": "text"
      },
      "source": [
        "<a href=\"https://colab.research.google.com/github/Mouazzama-dev/Computer-Vision-with-AI-/blob/main/1_1_Datatypes%2C_variables%2C_strings%2C_printing.ipynb\" target=\"_parent\"><img src=\"https://colab.research.google.com/assets/colab-badge.svg\" alt=\"Open In Colab\"/></a>"
      ]
    },
    {
      "cell_type": "markdown",
      "metadata": {
        "id": "iuvyUucWLl04"
      },
      "source": [
        "# <center><font style=\"color:rgb(100,109,254)\"> Python Crash Course</font><center>\n"
      ]
    },
    {
      "cell_type": "markdown",
      "metadata": {
        "id": "CW_E1RMJLl08"
      },
      "source": [
        "##  <font style=\"color:rgb(134,19,348)\">   Arithmetic Operators</font> \n",
        "\n"
      ]
    },
    {
      "cell_type": "code",
      "metadata": {
        "colab": {
          "base_uri": "https://localhost:8080/"
        },
        "id": "Qqws_coaLl09",
        "outputId": "5f140e2c-bdc9-4269-d2a6-935691e5afed"
      },
      "source": [
        "90 + 45 "
      ],
      "execution_count": 1,
      "outputs": [
        {
          "output_type": "execute_result",
          "data": {
            "text/plain": [
              "135"
            ]
          },
          "metadata": {
            "tags": []
          },
          "execution_count": 1
        }
      ]
    },
    {
      "cell_type": "code",
      "metadata": {
        "colab": {
          "base_uri": "https://localhost:8080/"
        },
        "id": "ho2kbJYeLl0_",
        "outputId": "5fcdc460-c74e-47ba-ae40-b011de63f49c"
      },
      "source": [
        "90 + 45 - 32"
      ],
      "execution_count": 2,
      "outputs": [
        {
          "output_type": "execute_result",
          "data": {
            "text/plain": [
              "103"
            ]
          },
          "metadata": {
            "tags": []
          },
          "execution_count": 2
        }
      ]
    },
    {
      "cell_type": "code",
      "metadata": {
        "colab": {
          "base_uri": "https://localhost:8080/"
        },
        "id": "lrqp5MYELl1A",
        "outputId": "ff7ea12e-9975-4700-f563-8bebf12f592a"
      },
      "source": [
        "3 * 33"
      ],
      "execution_count": 3,
      "outputs": [
        {
          "output_type": "execute_result",
          "data": {
            "text/plain": [
              "99"
            ]
          },
          "metadata": {
            "tags": []
          },
          "execution_count": 3
        }
      ]
    },
    {
      "cell_type": "code",
      "metadata": {
        "colab": {
          "base_uri": "https://localhost:8080/"
        },
        "id": "M5Bt5457Ll1A",
        "outputId": "bfe21bbe-e018-46fd-95a1-eb5094af0f05"
      },
      "source": [
        "100 / 4"
      ],
      "execution_count": 4,
      "outputs": [
        {
          "output_type": "execute_result",
          "data": {
            "text/plain": [
              "25.0"
            ]
          },
          "metadata": {
            "tags": []
          },
          "execution_count": 4
        }
      ]
    },
    {
      "cell_type": "code",
      "metadata": {
        "colab": {
          "base_uri": "https://localhost:8080/"
        },
        "id": "4CrRpQe2Ll1B",
        "outputId": "2351a6f0-c577-428b-a2d9-02065a697bdd"
      },
      "source": [
        "2 ** 4"
      ],
      "execution_count": 5,
      "outputs": [
        {
          "output_type": "execute_result",
          "data": {
            "text/plain": [
              "16"
            ]
          },
          "metadata": {
            "tags": []
          },
          "execution_count": 5
        }
      ]
    },
    {
      "cell_type": "code",
      "metadata": {
        "colab": {
          "base_uri": "https://localhost:8080/"
        },
        "id": "HtZXAvtvLl1B",
        "outputId": "eb42343f-fe14-4e79-9859-f1ed78c4e702"
      },
      "source": [
        "4 % 2   # give me the remainder after I divide 4 by 2"
      ],
      "execution_count": 6,
      "outputs": [
        {
          "output_type": "execute_result",
          "data": {
            "text/plain": [
              "0"
            ]
          },
          "metadata": {
            "tags": []
          },
          "execution_count": 6
        }
      ]
    },
    {
      "cell_type": "code",
      "metadata": {
        "colab": {
          "base_uri": "https://localhost:8080/"
        },
        "id": "NKKXmuW_Ll1C",
        "outputId": "731bfa7c-6790-4189-e3a4-a5b6cc69dc13"
      },
      "source": [
        "5 % 2"
      ],
      "execution_count": 7,
      "outputs": [
        {
          "output_type": "execute_result",
          "data": {
            "text/plain": [
              "1"
            ]
          },
          "metadata": {
            "tags": []
          },
          "execution_count": 7
        }
      ]
    },
    {
      "cell_type": "code",
      "metadata": {
        "colab": {
          "base_uri": "https://localhost:8080/"
        },
        "id": "1Pk2z-niLl1E",
        "outputId": "0fc68922-9630-49ef-b8e4-8df7e85a41e0"
      },
      "source": [
        "(2 + 3) * (5 + 5)   # you can try to make any complex equations"
      ],
      "execution_count": 8,
      "outputs": [
        {
          "output_type": "execute_result",
          "data": {
            "text/plain": [
              "50"
            ]
          },
          "metadata": {
            "tags": []
          },
          "execution_count": 8
        }
      ]
    },
    {
      "cell_type": "code",
      "metadata": {
        "colab": {
          "base_uri": "https://localhost:8080/"
        },
        "id": "cNJbhrK0Ll1E",
        "outputId": "662b71f5-5abe-4e7b-ddd0-e66db81f1cab"
      },
      "source": [
        "4 + 8 / 2  * 4    "
      ],
      "execution_count": 9,
      "outputs": [
        {
          "output_type": "execute_result",
          "data": {
            "text/plain": [
              "20.0"
            ]
          },
          "metadata": {
            "tags": []
          },
          "execution_count": 9
        }
      ]
    },
    {
      "cell_type": "code",
      "metadata": {
        "colab": {
          "base_uri": "https://localhost:8080/"
        },
        "id": "nP8gN5uYLl1F",
        "outputId": "1c5f7e6a-8eff-4834-8669-8b07f126d80b"
      },
      "source": [
        "4 + 8 / (2 * 4)   "
      ],
      "execution_count": 10,
      "outputs": [
        {
          "output_type": "execute_result",
          "data": {
            "text/plain": [
              "5.0"
            ]
          },
          "metadata": {
            "tags": []
          },
          "execution_count": 10
        }
      ]
    },
    {
      "cell_type": "code",
      "metadata": {
        "colab": {
          "base_uri": "https://localhost:8080/"
        },
        "id": "1NfJbvIeLl1G",
        "outputId": "3add23cc-4d1f-430b-b708-b1fc846295b1"
      },
      "source": [
        "(4 + ( 8 / 2 ) )  * 4  "
      ],
      "execution_count": 11,
      "outputs": [
        {
          "output_type": "execute_result",
          "data": {
            "text/plain": [
              "32.0"
            ]
          },
          "metadata": {
            "tags": []
          },
          "execution_count": 11
        }
      ]
    },
    {
      "cell_type": "markdown",
      "metadata": {
        "id": "abra0usBLl1G"
      },
      "source": [
        "##  <font style=\"color:rgb(134,19,348)\"> Variables    </font>"
      ]
    },
    {
      "cell_type": "markdown",
      "metadata": {
        "id": "pPqEOHNvLl1H"
      },
      "source": [
        "**Variables are nothing but reserved memory locations to store values. This means that when you create a variable you reserve some space in memory. Based on the data type of a variable, the interpreter allocates memory and decides what can be stored in the reserved memory.**"
      ]
    },
    {
      "cell_type": "code",
      "metadata": {
        "id": "VVqGgEkbLl1H"
      },
      "source": [
        "# Can not start with number or special characters . you can check if you want\n",
        "name_of_var = 2"
      ],
      "execution_count": 12,
      "outputs": []
    },
    {
      "cell_type": "code",
      "metadata": {
        "id": "FCuEu94pLl1H"
      },
      "source": [
        "x = 2\n",
        "y = 3"
      ],
      "execution_count": 13,
      "outputs": []
    },
    {
      "cell_type": "code",
      "metadata": {
        "id": "MQQKiAOQLl1I"
      },
      "source": [
        "z = x + y"
      ],
      "execution_count": 14,
      "outputs": []
    },
    {
      "cell_type": "code",
      "metadata": {
        "colab": {
          "base_uri": "https://localhost:8080/"
        },
        "id": "BNqP4T3sLl1I",
        "outputId": "38e10b6a-5e4f-4f53-8dfe-0627679f8340"
      },
      "source": [
        "z"
      ],
      "execution_count": 15,
      "outputs": [
        {
          "output_type": "execute_result",
          "data": {
            "text/plain": [
              "5"
            ]
          },
          "metadata": {
            "tags": []
          },
          "execution_count": 15
        }
      ]
    },
    {
      "cell_type": "code",
      "metadata": {
        "colab": {
          "base_uri": "https://localhost:8080/"
        },
        "id": "Wkq5OzejLl1I",
        "outputId": "3cdab659-2295-4f03-a766-e44f0b2f7058"
      },
      "source": [
        "z = z + 3     \n",
        "z"
      ],
      "execution_count": 16,
      "outputs": [
        {
          "output_type": "execute_result",
          "data": {
            "text/plain": [
              "8"
            ]
          },
          "metadata": {
            "tags": []
          },
          "execution_count": 16
        }
      ]
    },
    {
      "cell_type": "code",
      "metadata": {
        "colab": {
          "base_uri": "https://localhost:8080/"
        },
        "id": "5TS9UFevLl1J",
        "outputId": "c527a5e8-6040-4b03-df21-1493534b3176"
      },
      "source": [
        "z += 3\n",
        "z"
      ],
      "execution_count": 17,
      "outputs": [
        {
          "output_type": "execute_result",
          "data": {
            "text/plain": [
              "11"
            ]
          },
          "metadata": {
            "tags": []
          },
          "execution_count": 17
        }
      ]
    },
    {
      "cell_type": "markdown",
      "metadata": {
        "id": "TjrtoOqsLl1J"
      },
      "source": [
        "###  <font style=\"color:rgb(134,19,348)\">Assignment 1: Solve Maths</font> \n",
        "**Construct the following equation and calculate the value the value of `y` using Python**"
      ]
    },
    {
      "cell_type": "markdown",
      "metadata": {
        "id": "M-kpmgKvNpBz"
      },
      "source": [
        "![math.PNG](data:image/png;base64,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)"
      ]
    },
    {
      "cell_type": "code",
      "metadata": {
        "id": "d5oupizpLl1J"
      },
      "source": [
        "## ADD CODE BELOW\n",
        "# ~ 1 line of code\n",
        "\n",
        "#y = 2(x**2) + (3*x) - 1 / (1-x)\n"
      ],
      "execution_count": 31,
      "outputs": []
    },
    {
      "cell_type": "markdown",
      "metadata": {
        "id": "uCT4VNLNLl1K"
      },
      "source": [
        "## <font style=\"color:rgb(134,19,348)\">  Strings   </font> "
      ]
    },
    {
      "cell_type": "markdown",
      "metadata": {
        "id": "t326sXJsLl1K"
      },
      "source": [
        "**A string is usually a bit of text you want to display to someone, or \"export\" out of the program you are writing. Python knows you want something to be a string when you put either \" (double-quotes) or ' (single-quotes) around the text**"
      ]
    },
    {
      "cell_type": "code",
      "metadata": {
        "colab": {
          "base_uri": "https://localhost:8080/",
          "height": 35
        },
        "id": "OpmuomjJLl1K",
        "outputId": "4b258f43-4aec-46fb-9c2c-bed86ce47a06"
      },
      "source": [
        "'single quotes'"
      ],
      "execution_count": 32,
      "outputs": [
        {
          "output_type": "execute_result",
          "data": {
            "application/vnd.google.colaboratory.intrinsic+json": {
              "type": "string"
            },
            "text/plain": [
              "'single quotes'"
            ]
          },
          "metadata": {
            "tags": []
          },
          "execution_count": 32
        }
      ]
    },
    {
      "cell_type": "code",
      "metadata": {
        "colab": {
          "base_uri": "https://localhost:8080/",
          "height": 35
        },
        "id": "6ge1w3dVLl1L",
        "outputId": "de97041d-83ff-46eb-a9b6-362adc8a6d5e"
      },
      "source": [
        "\"double quotes\""
      ],
      "execution_count": 33,
      "outputs": [
        {
          "output_type": "execute_result",
          "data": {
            "application/vnd.google.colaboratory.intrinsic+json": {
              "type": "string"
            },
            "text/plain": [
              "'double quotes'"
            ]
          },
          "metadata": {
            "tags": []
          },
          "execution_count": 33
        }
      ]
    },
    {
      "cell_type": "markdown",
      "metadata": {
        "id": "gA146olVLl1L"
      },
      "source": [
        "And just like Integers you can save strings in varaibles and display them"
      ]
    },
    {
      "cell_type": "code",
      "metadata": {
        "colab": {
          "base_uri": "https://localhost:8080/",
          "height": 35
        },
        "id": "xo1FL1-NLl1L",
        "outputId": "907f513c-cadd-486b-ee5d-2504f490c3e7"
      },
      "source": [
        "my_string = 'hello world'\n",
        "my_string"
      ],
      "execution_count": 34,
      "outputs": [
        {
          "output_type": "execute_result",
          "data": {
            "application/vnd.google.colaboratory.intrinsic+json": {
              "type": "string"
            },
            "text/plain": [
              "'hello world'"
            ]
          },
          "metadata": {
            "tags": []
          },
          "execution_count": 34
        }
      ]
    },
    {
      "cell_type": "markdown",
      "metadata": {
        "id": "HiCj3i4GLl1M"
      },
      "source": [
        "#### You can even add Strings"
      ]
    },
    {
      "cell_type": "code",
      "metadata": {
        "colab": {
          "base_uri": "https://localhost:8080/",
          "height": 35
        },
        "id": "vSn2LCZJLl1M",
        "outputId": "8f003606-d70f-4c06-d442-bb3e127da541"
      },
      "source": [
        "part_1 = 'Hello'\n",
        "part_2 = ' World'\n",
        "\n",
        "part_1 + part_2"
      ],
      "execution_count": 35,
      "outputs": [
        {
          "output_type": "execute_result",
          "data": {
            "application/vnd.google.colaboratory.intrinsic+json": {
              "type": "string"
            },
            "text/plain": [
              "'Hello World'"
            ]
          },
          "metadata": {
            "tags": []
          },
          "execution_count": 35
        }
      ]
    },
    {
      "cell_type": "markdown",
      "metadata": {
        "id": "ZxhsVkgdLl1M"
      },
      "source": [
        "#### But Don't Try to add two differnt Data Types Together"
      ]
    },
    {
      "cell_type": "code",
      "metadata": {
        "id": "KGBySRvULl1N",
        "outputId": "92f8c5c2-aa15-4a7e-8829-2a90518e9a1f"
      },
      "source": [
        "4 + '4'"
      ],
      "execution_count": null,
      "outputs": [
        {
          "output_type": "error",
          "ename": "TypeError",
          "evalue": "unsupported operand type(s) for +: 'int' and 'str'",
          "traceback": [
            "\u001b[1;31m---------------------------------------------------------------------------\u001b[0m",
            "\u001b[1;31mTypeError\u001b[0m                                 Traceback (most recent call last)",
            "\u001b[1;32m<ipython-input-19-ae36418677da>\u001b[0m in \u001b[0;36m<module>\u001b[1;34m\u001b[0m\n\u001b[1;32m----> 1\u001b[1;33m \u001b[1;36m4\u001b[0m \u001b[1;33m+\u001b[0m \u001b[1;34m'4'\u001b[0m\u001b[1;33m\u001b[0m\u001b[1;33m\u001b[0m\u001b[0m\n\u001b[0m",
            "\u001b[1;31mTypeError\u001b[0m: unsupported operand type(s) for +: 'int' and 'str'"
          ]
        }
      ]
    },
    {
      "cell_type": "markdown",
      "metadata": {
        "id": "jVD5NJrOLl1O"
      },
      "source": [
        "#### When you are going to be using quotations as part of the string then you can use escape characters like `\\` to ignore them."
      ]
    },
    {
      "cell_type": "code",
      "metadata": {
        "colab": {
          "base_uri": "https://localhost:8080/",
          "height": 35
        },
        "id": "pPrEk4IxLl1P",
        "outputId": "0aa77dc5-fc5f-485b-a171-34641dc5e3d9"
      },
      "source": [
        "'wrap lot\\'s of other quotes'   "
      ],
      "execution_count": 36,
      "outputs": [
        {
          "output_type": "execute_result",
          "data": {
            "application/vnd.google.colaboratory.intrinsic+json": {
              "type": "string"
            },
            "text/plain": [
              "\"wrap lot's of other quotes\""
            ]
          },
          "metadata": {
            "tags": []
          },
          "execution_count": 36
        }
      ]
    },
    {
      "cell_type": "markdown",
      "metadata": {
        "id": "mOYbR22gLl1P"
      },
      "source": [
        "Or you can wrap single quotes in double quotes"
      ]
    },
    {
      "cell_type": "code",
      "metadata": {
        "colab": {
          "base_uri": "https://localhost:8080/",
          "height": 35
        },
        "id": "_TYlkrydLl1P",
        "outputId": "685b9e39-57b7-4b93-c0cd-b8dbbab39865"
      },
      "source": [
        "\"wrap lot's of other quotes\""
      ],
      "execution_count": 37,
      "outputs": [
        {
          "output_type": "execute_result",
          "data": {
            "application/vnd.google.colaboratory.intrinsic+json": {
              "type": "string"
            },
            "text/plain": [
              "\"wrap lot's of other quotes\""
            ]
          },
          "metadata": {
            "tags": []
          },
          "execution_count": 37
        }
      ]
    },
    {
      "cell_type": "markdown",
      "metadata": {
        "id": "-jySsmxZLl1Q"
      },
      "source": [
        "##  <font style=\"color:rgb(134,19,348)\"> Printing    </font>"
      ]
    },
    {
      "cell_type": "code",
      "metadata": {
        "colab": {
          "base_uri": "https://localhost:8080/"
        },
        "id": "tgXzZecvLl1Q",
        "outputId": "b07a271b-3e34-4128-a4dd-91d7e53b5839"
      },
      "source": [
        "my_string = \"Hello world\"\n",
        "print(\"Hello world\")"
      ],
      "execution_count": 38,
      "outputs": [
        {
          "output_type": "stream",
          "text": [
            "Hello world\n"
          ],
          "name": "stdout"
        }
      ]
    },
    {
      "cell_type": "code",
      "metadata": {
        "colab": {
          "base_uri": "https://localhost:8080/",
          "height": 35
        },
        "id": "AeHMDvu6Ll1Q",
        "outputId": "269a61c3-833f-4ca8-cfeb-eeffa5eb25b3"
      },
      "source": [
        "my_string = \"Hello world\"\n",
        "my_string"
      ],
      "execution_count": 39,
      "outputs": [
        {
          "output_type": "execute_result",
          "data": {
            "application/vnd.google.colaboratory.intrinsic+json": {
              "type": "string"
            },
            "text/plain": [
              "'Hello world'"
            ]
          },
          "metadata": {
            "tags": []
          },
          "execution_count": 39
        }
      ]
    },
    {
      "cell_type": "code",
      "metadata": {
        "id": "GFNyrgSfLl1R"
      },
      "source": [
        "my_string = \"Hello world\"\n",
        "my_string\n",
        "x = 5"
      ],
      "execution_count": 40,
      "outputs": []
    },
    {
      "cell_type": "code",
      "metadata": {
        "colab": {
          "base_uri": "https://localhost:8080/"
        },
        "id": "3h--UX1ILl1R",
        "outputId": "b9043043-3060-42bd-aded-9f9cd114dfe8"
      },
      "source": [
        "my_string = \"Hello world\"\n",
        "print(\"Hello world\")\n",
        "x = 5"
      ],
      "execution_count": 41,
      "outputs": [
        {
          "output_type": "stream",
          "text": [
            "Hello world\n"
          ],
          "name": "stdout"
        }
      ]
    },
    {
      "cell_type": "markdown",
      "metadata": {
        "id": "0_PpkXF4Ll1R"
      },
      "source": [
        "#### 4 Different Methods to Print combining Variables and text"
      ]
    },
    {
      "cell_type": "code",
      "metadata": {
        "id": "pUjl0duULl1S"
      },
      "source": [
        "num = 12\n",
        "name = 'Sam'"
      ],
      "execution_count": 42,
      "outputs": []
    },
    {
      "cell_type": "markdown",
      "metadata": {
        "id": "zsAs_s1DLl1T"
      },
      "source": [
        "Method 1"
      ]
    },
    {
      "cell_type": "code",
      "metadata": {
        "colab": {
          "base_uri": "https://localhost:8080/"
        },
        "id": "7GLQT2KJLl1T",
        "outputId": "cd1f7cc5-4f7d-4b35-95e0-8779ee4f5a8a"
      },
      "source": [
        "print('My age is: {one}, and my name is: {two}'.format(one=num,two=name))"
      ],
      "execution_count": 43,
      "outputs": [
        {
          "output_type": "stream",
          "text": [
            "My age is: 12, and my name is: Sam\n"
          ],
          "name": "stdout"
        }
      ]
    },
    {
      "cell_type": "markdown",
      "metadata": {
        "id": "UmFF3tBSLl1U"
      },
      "source": [
        "Method 2"
      ]
    },
    {
      "cell_type": "code",
      "metadata": {
        "colab": {
          "base_uri": "https://localhost:8080/"
        },
        "id": "W3LmRKyXLl1U",
        "outputId": "9f832fa2-b37c-4b99-eb81-dff1359e7c44"
      },
      "source": [
        "print('My age is: {}, and my name is: {}'.format(num,name))"
      ],
      "execution_count": 44,
      "outputs": [
        {
          "output_type": "stream",
          "text": [
            "My age is: 12, and my name is: Sam\n"
          ],
          "name": "stdout"
        }
      ]
    },
    {
      "cell_type": "markdown",
      "metadata": {
        "id": "rRlCF0UHLl1U"
      },
      "source": [
        "Method 3"
      ]
    },
    {
      "cell_type": "code",
      "metadata": {
        "colab": {
          "base_uri": "https://localhost:8080/"
        },
        "id": "2SFdwC5pLl1U",
        "outputId": "7a63876b-9d6a-40c8-f4f6-981f8225bf43"
      },
      "source": [
        "print('My age is: ' + str(num) + ', and my name is: ' + name) "
      ],
      "execution_count": 45,
      "outputs": [
        {
          "output_type": "stream",
          "text": [
            "My age is: 12, and my name is: Sam\n"
          ],
          "name": "stdout"
        }
      ]
    },
    {
      "cell_type": "markdown",
      "metadata": {
        "id": "VO1CqMGSLl1V"
      },
      "source": [
        "Method 4"
      ]
    },
    {
      "cell_type": "code",
      "metadata": {
        "colab": {
          "base_uri": "https://localhost:8080/"
        },
        "id": "XYTVXiWrLl1V",
        "outputId": "11248f5a-9794-4695-ba4a-0b104409bcee"
      },
      "source": [
        "and18 = '%s how are you %s %d' % ('hello', 'Android', 18)  # sprintf style string formatting\n",
        "print(and18)"
      ],
      "execution_count": 46,
      "outputs": [
        {
          "output_type": "stream",
          "text": [
            "hello how are you Android 18\n"
          ],
          "name": "stdout"
        }
      ]
    },
    {
      "cell_type": "code",
      "metadata": {
        "id": "PzRcXB3wQHNb"
      },
      "source": [
        ""
      ],
      "execution_count": 46,
      "outputs": []
    }
  ]
}