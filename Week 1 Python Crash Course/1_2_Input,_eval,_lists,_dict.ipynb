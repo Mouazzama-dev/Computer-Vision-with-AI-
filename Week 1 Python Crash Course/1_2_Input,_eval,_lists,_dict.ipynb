{
  "nbformat": 4,
  "nbformat_minor": 0,
  "metadata": {
    "anaconda-cloud": {
      "environment": null,
      "summary": "Python Crash Course"
    },
    "kernelspec": {
      "display_name": "Python 3",
      "language": "python",
      "name": "python3"
    },
    "language_info": {
      "codemirror_mode": {
        "name": "ipython",
        "version": 3
      },
      "file_extension": ".py",
      "mimetype": "text/x-python",
      "name": "python",
      "nbconvert_exporter": "python",
      "pygments_lexer": "ipython3",
      "version": "3.7.3"
    },
    "colab": {
      "name": "1.2 Input, eval, lists, dict.ipynb",
      "provenance": [],
      "include_colab_link": true
    }
  },
  "cells": [
    {
      "cell_type": "markdown",
      "metadata": {
        "id": "view-in-github",
        "colab_type": "text"
      },
      "source": [
        "<a href=\"https://colab.research.google.com/github/Mouazzama-dev/Computer-Vision-with-AI-/blob/main/Week%201%20Python%20Crash%20Course/1_2_Input%2C_eval%2C_lists%2C_dict.ipynb\" target=\"_parent\"><img src=\"https://colab.research.google.com/assets/colab-badge.svg\" alt=\"Open In Colab\"/></a>"
      ]
    },
    {
      "cell_type": "markdown",
      "metadata": {
        "id": "J-o3FkrIazH6"
      },
      "source": [
        "# **Python Crash Course**"
      ]
    },
    {
      "cell_type": "markdown",
      "metadata": {
        "id": "pXWk_KBBaoeY"
      },
      "source": [
        "**Taking Input**\n"
      ]
    },
    {
      "cell_type": "code",
      "metadata": {
        "colab": {
          "base_uri": "https://localhost:8080/"
        },
        "id": "IyoGLAYLaoeZ",
        "outputId": "fcd32893-ebde-43f9-cb4b-8e021e7e571f"
      },
      "source": [
        "name = input(\"Enter your name: \")\n",
        "print('hello ' + name)"
      ],
      "execution_count": 1,
      "outputs": [
        {
          "output_type": "stream",
          "text": [
            "Enter your name: Mouazzama\n",
            "hello Mouazzama\n"
          ],
          "name": "stdout"
        }
      ]
    },
    {
      "cell_type": "code",
      "metadata": {
        "colab": {
          "base_uri": "https://localhost:8080/"
        },
        "id": "nnYi4Niyaoea",
        "outputId": "1beb20a1-2edd-441e-b44c-9365b315c93c"
      },
      "source": [
        "Age = int(input(\"Enter your age: \"))\n",
        "print(\"Your actual age is : \" , Age + 2)"
      ],
      "execution_count": 2,
      "outputs": [
        {
          "output_type": "stream",
          "text": [
            "Enter your age: 20\n",
            "Your actual age is :  22\n"
          ],
          "name": "stdout"
        }
      ]
    },
    {
      "cell_type": "markdown",
      "metadata": {
        "id": "K7xaweWnaoeb"
      },
      "source": [
        "### **Evaluating** \n",
        "`eval:` lets you evaluate expressions or variables"
      ]
    },
    {
      "cell_type": "code",
      "metadata": {
        "colab": {
          "base_uri": "https://localhost:8080/"
        },
        "id": "vy9RnMvOaoec",
        "outputId": "095c0be4-36c6-434c-b3c1-442e4f54ab69"
      },
      "source": [
        "math = \"(25+5) * 10\"\n",
        "eval(math)"
      ],
      "execution_count": 4,
      "outputs": [
        {
          "output_type": "execute_result",
          "data": {
            "text/plain": [
              "300"
            ]
          },
          "metadata": {
            "tags": []
          },
          "execution_count": 4
        }
      ]
    },
    {
      "cell_type": "markdown",
      "metadata": {
        "id": "fL1JWIA4aoec"
      },
      "source": [
        "You can also Evaluate Variables like below"
      ]
    },
    {
      "cell_type": "code",
      "metadata": {
        "colab": {
          "base_uri": "https://localhost:8080/"
        },
        "id": "KOrUMFcLaoed",
        "outputId": "ccfdf8c1-a817-4730-f543-9f8652d6e5b2"
      },
      "source": [
        "e_value = 45\n",
        "print('e_value')\n",
        "print(eval('e_value'))"
      ],
      "execution_count": 5,
      "outputs": [
        {
          "output_type": "stream",
          "text": [
            "e_value\n",
            "45\n"
          ],
          "name": "stdout"
        }
      ]
    },
    {
      "cell_type": "markdown",
      "metadata": {
        "id": "wR5Tk50Faoef"
      },
      "source": [
        "**Now lets make a Calculator in 2 lines of Python**\n",
        "\n",
        "\n",
        "\n"
      ]
    },
    {
      "cell_type": "code",
      "metadata": {
        "colab": {
          "base_uri": "https://localhost:8080/"
        },
        "id": "mUqAPtA2aoef",
        "outputId": "1f172c45-cf9f-4b5d-ded2-3ebcc8ff5d0d"
      },
      "source": [
        "exp = input(\"Enter any Math Expression: \")\n",
        "print('Answer: ' + str(eval(exp))  )"
      ],
      "execution_count": 6,
      "outputs": [
        {
          "output_type": "stream",
          "text": [
            "Enter any Math Expression: 2+3\n",
            "Answer: 5\n"
          ],
          "name": "stdout"
        }
      ]
    },
    {
      "cell_type": "markdown",
      "metadata": {
        "id": "aNNxsPaiaoeg"
      },
      "source": [
        "# **Assignment 2: Dynamic Story Make**r \n",
        "**Create a Dynamic e 2-3 lines story in which you first ask the user his name and a few other things and make a story out of it**"
      ]
    },
    {
      "cell_type": "code",
      "metadata": {
        "colab": {
          "base_uri": "https://localhost:8080/"
        },
        "id": "qu-0szZ1aoeg",
        "outputId": "eb46bf50-2620-4e38-ba72-92315c1c0460"
      },
      "source": [
        "##ADD CODE BELOW\n",
        "# ~ 8 lines\n",
        "prof = input(\"What you want to be ?\")\n",
        "name = input(\"What is your good name ?\")\n",
        "age = input(\"What is your age ?\")\n",
        "print(\"Hey from future \" + prof + \" \" + \"named \" + name + \" \" + \"I hope you are doing well. I am \" + (age) + \" \" + \"old\"  )\n"
      ],
      "execution_count": 45,
      "outputs": [
        {
          "output_type": "stream",
          "text": [
            "What you want to be ?AI Engineer\n",
            "What is your good name ?Mouazzama\n",
            "What is your age ?20\n",
            "Hey from future AI Engineer named Mouazzama I hope you are doing well. I am 20 old\n"
          ],
          "name": "stdout"
        }
      ]
    },
    {
      "cell_type": "markdown",
      "metadata": {
        "id": "yZuUtoqjaoeh"
      },
      "source": [
        "### **Lists**"
      ]
    },
    {
      "cell_type": "markdown",
      "metadata": {
        "id": "Sosni-4yaoeh"
      },
      "source": [
        "**In Python programming, a list is created by placing all the items (elements) inside a square bracket [ ], separated by commas. It can have any number of items and they may be of different types (integer, float, string etc.).**"
      ]
    },
    {
      "cell_type": "markdown",
      "metadata": {
        "id": "ph3xeN2Paoeh"
      },
      "source": [
        "A list can be of Numbers"
      ]
    },
    {
      "cell_type": "code",
      "metadata": {
        "colab": {
          "base_uri": "https://localhost:8080/"
        },
        "id": "Q5bLX_WZaoei",
        "outputId": "c452f370-0ad8-4b6d-ca8c-cb67e50698f9"
      },
      "source": [
        "number_list = [1,2,3]\n",
        "print(number_list)"
      ],
      "execution_count": 7,
      "outputs": [
        {
          "output_type": "stream",
          "text": [
            "[1, 2, 3]\n"
          ],
          "name": "stdout"
        }
      ]
    },
    {
      "cell_type": "markdown",
      "metadata": {
        "id": "XTllT2Y0aoei"
      },
      "source": [
        "It can be of Letters"
      ]
    },
    {
      "cell_type": "code",
      "metadata": {
        "colab": {
          "base_uri": "https://localhost:8080/"
        },
        "id": "_a6VvR1Waoei",
        "outputId": "e795d766-94c0-4c5d-8ca2-c07b5147dcda"
      },
      "source": [
        "letter_list = ['s','d','f','d']\n",
        "print(letter_list)"
      ],
      "execution_count": 8,
      "outputs": [
        {
          "output_type": "stream",
          "text": [
            "['s', 'd', 'f', 'd']\n"
          ],
          "name": "stdout"
        }
      ]
    },
    {
      "cell_type": "markdown",
      "metadata": {
        "id": "rIczuM4raoej"
      },
      "source": [
        "It Can be of Words"
      ]
    },
    {
      "cell_type": "code",
      "metadata": {
        "colab": {
          "base_uri": "https://localhost:8080/"
        },
        "id": "gjNr7q24aoej",
        "outputId": "9992457a-6192-4e99-e7b6-ff455c513f6d"
      },
      "source": [
        "word_list = ['hello', 'Who','Mister','what']\n",
        "print(word_list)"
      ],
      "execution_count": 9,
      "outputs": [
        {
          "output_type": "stream",
          "text": [
            "['hello', 'Who', 'Mister', 'what']\n"
          ],
          "name": "stdout"
        }
      ]
    },
    {
      "cell_type": "markdown",
      "metadata": {
        "id": "EFcG42-_aoej"
      },
      "source": [
        "A list can be a list of Lists"
      ]
    },
    {
      "cell_type": "code",
      "metadata": {
        "colab": {
          "base_uri": "https://localhost:8080/"
        },
        "id": "IsXzmKQ9aoej",
        "outputId": "394b3d28-6d8c-434e-f23e-434b20b1457a"
      },
      "source": [
        "list_of_lists =[[1,2,3], [12,2,213,212,3],['sdsa','df','fd']]\n",
        "print(list_of_lists)"
      ],
      "execution_count": 10,
      "outputs": [
        {
          "output_type": "stream",
          "text": [
            "[[1, 2, 3], [12, 2, 213, 212, 3], ['sdsa', 'df', 'fd']]\n"
          ],
          "name": "stdout"
        }
      ]
    },
    {
      "cell_type": "markdown",
      "metadata": {
        "id": "_XM8Ip3Saoek"
      },
      "source": [
        "It can be a combination of All of them"
      ]
    },
    {
      "cell_type": "code",
      "metadata": {
        "colab": {
          "base_uri": "https://localhost:8080/"
        },
        "id": "FvRABB0Raoek",
        "outputId": "72a2360f-34c4-44eb-d485-eb653765a0f7"
      },
      "source": [
        "mix_list = ['h',1,'world',[2,'ad']]\n",
        "print(mix_list)"
      ],
      "execution_count": 11,
      "outputs": [
        {
          "output_type": "stream",
          "text": [
            "['h', 1, 'world', [2, 'ad']]\n"
          ],
          "name": "stdout"
        }
      ]
    },
    {
      "cell_type": "markdown",
      "metadata": {
        "id": "ka5hbbyvaoel"
      },
      "source": [
        "### **Some List methods**"
      ]
    },
    {
      "cell_type": "code",
      "metadata": {
        "id": "DoFMlJ4Daoel"
      },
      "source": [
        "my_list = ['a','b','c','d','e']"
      ],
      "execution_count": 14,
      "outputs": []
    },
    {
      "cell_type": "markdown",
      "metadata": {
        "id": "OLerTTSTaoel"
      },
      "source": [
        "Pop out the last Element"
      ]
    },
    {
      "cell_type": "code",
      "metadata": {
        "colab": {
          "base_uri": "https://localhost:8080/"
        },
        "id": "fUzBpPCxaoel",
        "outputId": "ae37dfed-8016-48e5-908f-4d60a987749a"
      },
      "source": [
        "my_list.pop()\n",
        "my_list"
      ],
      "execution_count": 15,
      "outputs": [
        {
          "output_type": "execute_result",
          "data": {
            "text/plain": [
              "['a', 'b', 'c', 'd']"
            ]
          },
          "metadata": {
            "tags": []
          },
          "execution_count": 15
        }
      ]
    },
    {
      "cell_type": "markdown",
      "metadata": {
        "id": "_xnKClOtaoem"
      },
      "source": [
        "Add an Element to the List"
      ]
    },
    {
      "cell_type": "code",
      "metadata": {
        "id": "CMhoMZvVaoem"
      },
      "source": [
        "my_list.append('z')"
      ],
      "execution_count": 16,
      "outputs": []
    },
    {
      "cell_type": "code",
      "metadata": {
        "colab": {
          "base_uri": "https://localhost:8080/"
        },
        "id": "tiY8kgcLaoem",
        "outputId": "13007bcd-9339-4ad4-ea78-c58925b9f939"
      },
      "source": [
        "my_list"
      ],
      "execution_count": 17,
      "outputs": [
        {
          "output_type": "execute_result",
          "data": {
            "text/plain": [
              "['a', 'b', 'c', 'd', 'z']"
            ]
          },
          "metadata": {
            "tags": []
          },
          "execution_count": 17
        }
      ]
    },
    {
      "cell_type": "markdown",
      "metadata": {
        "id": "y09UtXnpaoen"
      },
      "source": [
        "**Indexing**\n",
        "You can index into the list and pull out a specific Element"
      ]
    },
    {
      "cell_type": "code",
      "metadata": {
        "colab": {
          "base_uri": "https://localhost:8080/",
          "height": 35
        },
        "id": "ulHs8PHaaoen",
        "outputId": "5e920848-6fae-431d-eb28-25c04bc8cc0c"
      },
      "source": [
        "my_list[0]"
      ],
      "execution_count": 18,
      "outputs": [
        {
          "output_type": "execute_result",
          "data": {
            "application/vnd.google.colaboratory.intrinsic+json": {
              "type": "string"
            },
            "text/plain": [
              "'a'"
            ]
          },
          "metadata": {
            "tags": []
          },
          "execution_count": 18
        }
      ]
    },
    {
      "cell_type": "code",
      "metadata": {
        "colab": {
          "base_uri": "https://localhost:8080/",
          "height": 35
        },
        "id": "3MqWvCdpaoen",
        "outputId": "12432755-40a5-418d-bf86-8ca0d784ffa9"
      },
      "source": [
        "my_list[1]"
      ],
      "execution_count": 19,
      "outputs": [
        {
          "output_type": "execute_result",
          "data": {
            "application/vnd.google.colaboratory.intrinsic+json": {
              "type": "string"
            },
            "text/plain": [
              "'b'"
            ]
          },
          "metadata": {
            "tags": []
          },
          "execution_count": 19
        }
      ]
    },
    {
      "cell_type": "markdown",
      "metadata": {
        "id": "6Efl8qITaoeo"
      },
      "source": [
        "You can also Reverse Index in a list <br>\n",
        "For e.g `-1` will give you the the last element of the list"
      ]
    },
    {
      "cell_type": "code",
      "metadata": {
        "colab": {
          "base_uri": "https://localhost:8080/",
          "height": 35
        },
        "id": "t-a1gAHkaoeo",
        "outputId": "a9ea49cf-254c-4647-bb85-2c613e195863"
      },
      "source": [
        "my_list[-1]"
      ],
      "execution_count": 20,
      "outputs": [
        {
          "output_type": "execute_result",
          "data": {
            "application/vnd.google.colaboratory.intrinsic+json": {
              "type": "string"
            },
            "text/plain": [
              "'z'"
            ]
          },
          "metadata": {
            "tags": []
          },
          "execution_count": 20
        }
      ]
    },
    {
      "cell_type": "code",
      "metadata": {
        "colab": {
          "base_uri": "https://localhost:8080/",
          "height": 35
        },
        "id": "FSGSh_ivaoeo",
        "outputId": "7f4a7c52-7e8f-40f4-ec8e-f9b493ca8f7d"
      },
      "source": [
        "my_list[-2] # 2nd last"
      ],
      "execution_count": 21,
      "outputs": [
        {
          "output_type": "execute_result",
          "data": {
            "application/vnd.google.colaboratory.intrinsic+json": {
              "type": "string"
            },
            "text/plain": [
              "'d'"
            ]
          },
          "metadata": {
            "tags": []
          },
          "execution_count": 21
        }
      ]
    },
    {
      "cell_type": "markdown",
      "metadata": {
        "id": "VzvUtj2Vaoep"
      },
      "source": [
        "### **Slicing**\n",
        "You can Slice the list, Upper Limit is not Included <br>\n",
        "So `0:3` Means Give me Elements ranging from 0 to 2"
      ]
    },
    {
      "cell_type": "code",
      "metadata": {
        "colab": {
          "base_uri": "https://localhost:8080/"
        },
        "id": "WjItdhZ8aoep",
        "outputId": "87f097cb-af46-4ba0-98e4-34cd31ad2888"
      },
      "source": [
        "my_list[:1]  # the upper limit is not included"
      ],
      "execution_count": 22,
      "outputs": [
        {
          "output_type": "execute_result",
          "data": {
            "text/plain": [
              "['a']"
            ]
          },
          "metadata": {
            "tags": []
          },
          "execution_count": 22
        }
      ]
    },
    {
      "cell_type": "code",
      "metadata": {
        "colab": {
          "base_uri": "https://localhost:8080/"
        },
        "id": "G87hKV1Faoep",
        "outputId": "1e74412f-40ff-4e7e-a00d-deee3795c2f2"
      },
      "source": [
        "my_list[1:3]"
      ],
      "execution_count": 23,
      "outputs": [
        {
          "output_type": "execute_result",
          "data": {
            "text/plain": [
              "['b', 'c']"
            ]
          },
          "metadata": {
            "tags": []
          },
          "execution_count": 23
        }
      ]
    },
    {
      "cell_type": "markdown",
      "metadata": {
        "id": "VJwpEXt9aoeq"
      },
      "source": [
        "Below Command is Equal to the Above command <br>\n",
        "So `:3` Means give me Elements from Start to 2"
      ]
    },
    {
      "cell_type": "code",
      "metadata": {
        "colab": {
          "base_uri": "https://localhost:8080/"
        },
        "id": "7l_Csxspaoeq",
        "outputId": "b410884a-58eb-410e-857e-48b60f34181e"
      },
      "source": [
        "my_list[:3]"
      ],
      "execution_count": 24,
      "outputs": [
        {
          "output_type": "execute_result",
          "data": {
            "text/plain": [
              "['a', 'b', 'c']"
            ]
          },
          "metadata": {
            "tags": []
          },
          "execution_count": 24
        }
      ]
    },
    {
      "cell_type": "markdown",
      "metadata": {
        "id": "naZFXu79aoeq"
      },
      "source": [
        "Similarly you can slice from some index to End of list"
      ]
    },
    {
      "cell_type": "code",
      "metadata": {
        "colab": {
          "base_uri": "https://localhost:8080/"
        },
        "id": "dY9_DRDSaoeq",
        "outputId": "9fb58569-20b4-4667-8026-39750c2bf104"
      },
      "source": [
        "my_list[3:]"
      ],
      "execution_count": 25,
      "outputs": [
        {
          "output_type": "execute_result",
          "data": {
            "text/plain": [
              "['d', 'z']"
            ]
          },
          "metadata": {
            "tags": []
          },
          "execution_count": 25
        }
      ]
    },
    {
      "cell_type": "markdown",
      "metadata": {
        "id": "KUwAvsh6aoer"
      },
      "source": [
        "You Can Modify any existing value of the list"
      ]
    },
    {
      "cell_type": "code",
      "metadata": {
        "id": "SaqDShYkaoer"
      },
      "source": [
        "my_list[0] = 'NEW'"
      ],
      "execution_count": 26,
      "outputs": []
    },
    {
      "cell_type": "code",
      "metadata": {
        "id": "b6VTRwk7aoer",
        "outputId": "b35567ee-562a-4cce-c1f1-036738bb7c8a"
      },
      "source": [
        "my_list"
      ],
      "execution_count": null,
      "outputs": [
        {
          "output_type": "execute_result",
          "data": {
            "text/plain": [
              "['NEW', 'b', 'c', 'd', 'z']"
            ]
          },
          "metadata": {
            "tags": []
          },
          "execution_count": 28
        }
      ]
    },
    {
      "cell_type": "markdown",
      "metadata": {
        "id": "CpZBPt9Uaoer"
      },
      "source": [
        "#### Lets take Look at a Nested list\n",
        "Can you print out the string target through Indexing"
      ]
    },
    {
      "cell_type": "code",
      "metadata": {
        "id": "TnXAgOkcaoes"
      },
      "source": [
        "nest = [1,2,3,[4,5,['target']]]  # the third element of thrid element is also a list # this is like dabe me daba"
      ],
      "execution_count": 27,
      "outputs": []
    },
    {
      "cell_type": "code",
      "metadata": {
        "colab": {
          "base_uri": "https://localhost:8080/"
        },
        "id": "ccmj3ca-aoes",
        "outputId": "8d0d33dd-a0c0-4153-965b-e16ad4448ca1"
      },
      "source": [
        "nest[3]"
      ],
      "execution_count": 28,
      "outputs": [
        {
          "output_type": "execute_result",
          "data": {
            "text/plain": [
              "[4, 5, ['target']]"
            ]
          },
          "metadata": {
            "tags": []
          },
          "execution_count": 28
        }
      ]
    },
    {
      "cell_type": "code",
      "metadata": {
        "colab": {
          "base_uri": "https://localhost:8080/"
        },
        "id": "L_ycQ-fUaoes",
        "outputId": "14e02d27-35b0-4a60-971f-69fc71ffcbec"
      },
      "source": [
        "nest[3][2]"
      ],
      "execution_count": 29,
      "outputs": [
        {
          "output_type": "execute_result",
          "data": {
            "text/plain": [
              "['target']"
            ]
          },
          "metadata": {
            "tags": []
          },
          "execution_count": 29
        }
      ]
    },
    {
      "cell_type": "code",
      "metadata": {
        "colab": {
          "base_uri": "https://localhost:8080/",
          "height": 35
        },
        "id": "PgusQF0Caoet",
        "outputId": "3c08351c-4450-439f-f854-2bdbd444416f"
      },
      "source": [
        "nest[3][2][0]"
      ],
      "execution_count": 30,
      "outputs": [
        {
          "output_type": "execute_result",
          "data": {
            "application/vnd.google.colaboratory.intrinsic+json": {
              "type": "string"
            },
            "text/plain": [
              "'target'"
            ]
          },
          "metadata": {
            "tags": []
          },
          "execution_count": 30
        }
      ]
    },
    {
      "cell_type": "markdown",
      "metadata": {
        "id": "ic4NrLgVaoet"
      },
      "source": [
        "You can also check if a particular element exists in a list"
      ]
    },
    {
      "cell_type": "code",
      "metadata": {
        "colab": {
          "base_uri": "https://localhost:8080/"
        },
        "id": "8ceTZS_Raoet",
        "outputId": "7731acc7-44ae-494d-d3cf-f9c73bc40321"
      },
      "source": [
        "'x' in ['x','y','z']"
      ],
      "execution_count": 31,
      "outputs": [
        {
          "output_type": "execute_result",
          "data": {
            "text/plain": [
              "True"
            ]
          },
          "metadata": {
            "tags": []
          },
          "execution_count": 31
        }
      ]
    },
    {
      "cell_type": "markdown",
      "metadata": {
        "id": "5AFTW9Anaoeu"
      },
      "source": [
        "### **Dictionaries**"
      ]
    },
    {
      "cell_type": "markdown",
      "metadata": {
        "id": "-oVe5jDLaoeu"
      },
      "source": [
        "**A dictionary is a collection which is unordered, changeable and indexed. In Python dictionaries are written with curly brackets, and they have keys and values.**"
      ]
    },
    {
      "cell_type": "code",
      "metadata": {
        "id": "O-3yGwlvaoeu"
      },
      "source": [
        "d = {'key1': 'Value1' ,  'key2':'Value'}"
      ],
      "execution_count": 32,
      "outputs": []
    },
    {
      "cell_type": "markdown",
      "metadata": {
        "id": "UmeSDu6Paoeu"
      },
      "source": [
        "Consider Below Example of a Dictionary in which Key is the name of a person and the value is his/her phone number"
      ]
    },
    {
      "cell_type": "code",
      "metadata": {
        "id": "qGwyueI9aoev"
      },
      "source": [
        "d = {'Taha': 923132283550,  'Sara' : 923332234450 , 'Mustafa': 923212062374}"
      ],
      "execution_count": 33,
      "outputs": []
    },
    {
      "cell_type": "markdown",
      "metadata": {
        "id": "yAxWVuNBaoev"
      },
      "source": [
        "Now if Needed Mustafa's Phone Number I would do this:"
      ]
    },
    {
      "cell_type": "code",
      "metadata": {
        "colab": {
          "base_uri": "https://localhost:8080/"
        },
        "id": "MfUmDq5Uaoev",
        "outputId": "a78d41ab-1975-4c83-8535-37c2ee16f468"
      },
      "source": [
        "d['Mustafa']"
      ],
      "execution_count": 34,
      "outputs": [
        {
          "output_type": "execute_result",
          "data": {
            "text/plain": [
              "923212062374"
            ]
          },
          "metadata": {
            "tags": []
          },
          "execution_count": 34
        }
      ]
    },
    {
      "cell_type": "markdown",
      "metadata": {
        "id": "UhRUQzyoaoev"
      },
      "source": [
        "You can use anything as a key, integers, strings etc."
      ]
    },
    {
      "cell_type": "markdown",
      "metadata": {
        "id": "j3lXD77-aoev"
      },
      "source": [
        "Note: You can't Append to a dictionary"
      ]
    },
    {
      "cell_type": "code",
      "metadata": {
        "colab": {
          "base_uri": "https://localhost:8080/",
          "height": 163
        },
        "id": "U--dPP_Raoew",
        "outputId": "0a367da6-59ae-4755-95e6-f625f835a07f"
      },
      "source": [
        "d.append['Mouse'] = \"Cheese\"         #we can't use append keyword in dictionary"
      ],
      "execution_count": 35,
      "outputs": [
        {
          "output_type": "error",
          "ename": "AttributeError",
          "evalue": "ignored",
          "traceback": [
            "\u001b[0;31m---------------------------------------------------------------------------\u001b[0m",
            "\u001b[0;31mAttributeError\u001b[0m                            Traceback (most recent call last)",
            "\u001b[0;32m<ipython-input-35-69de06ce8208>\u001b[0m in \u001b[0;36m<module>\u001b[0;34m()\u001b[0m\n\u001b[0;32m----> 1\u001b[0;31m \u001b[0md\u001b[0m\u001b[0;34m.\u001b[0m\u001b[0mappend\u001b[0m\u001b[0;34m[\u001b[0m\u001b[0;34m'Mouse'\u001b[0m\u001b[0;34m]\u001b[0m \u001b[0;34m=\u001b[0m \u001b[0;34m\"Cheese\"\u001b[0m         \u001b[0;31m#we can't use append keyword in dictionary\u001b[0m\u001b[0;34m\u001b[0m\u001b[0;34m\u001b[0m\u001b[0m\n\u001b[0m",
            "\u001b[0;31mAttributeError\u001b[0m: 'dict' object has no attribute 'append'"
          ]
        }
      ]
    },
    {
      "cell_type": "markdown",
      "metadata": {
        "id": "PO_mhgQ_aoew"
      },
      "source": [
        "Now this is how you add a new Key Value Pair "
      ]
    },
    {
      "cell_type": "code",
      "metadata": {
        "colab": {
          "base_uri": "https://localhost:8080/"
        },
        "id": "tqmTBij0aoew",
        "outputId": "8f40bbfd-9e2b-47fb-ac6f-29bdc1b5182f"
      },
      "source": [
        "d['Mouse'] = 'Cheese'    # Set a new entry in a dictionary\n",
        "d"
      ],
      "execution_count": 36,
      "outputs": [
        {
          "output_type": "execute_result",
          "data": {
            "text/plain": [
              "{'Mouse': 'Cheese',\n",
              " 'Mustafa': 923212062374,\n",
              " 'Sara': 923332234450,\n",
              " 'Taha': 923132283550}"
            ]
          },
          "metadata": {
            "tags": []
          },
          "execution_count": 36
        }
      ]
    },
    {
      "cell_type": "markdown",
      "metadata": {
        "id": "RuIBJSqiaoex"
      },
      "source": [
        "This is How you Delete a Key Value Pair"
      ]
    },
    {
      "cell_type": "code",
      "metadata": {
        "id": "kMOAalfraoex"
      },
      "source": [
        "del d['Sara']        "
      ],
      "execution_count": 37,
      "outputs": []
    },
    {
      "cell_type": "code",
      "metadata": {
        "colab": {
          "base_uri": "https://localhost:8080/"
        },
        "id": "L8gm1xcKaoex",
        "outputId": "ae263b7d-fb07-4dd7-c1d9-cdcd51a57fb7"
      },
      "source": [
        "d"
      ],
      "execution_count": 38,
      "outputs": [
        {
          "output_type": "execute_result",
          "data": {
            "text/plain": [
              "{'Mouse': 'Cheese', 'Mustafa': 923212062374, 'Taha': 923132283550}"
            ]
          },
          "metadata": {
            "tags": []
          },
          "execution_count": 38
        }
      ]
    },
    {
      "cell_type": "markdown",
      "metadata": {
        "id": "S711QE7Haoex"
      },
      "source": [
        "You Can Update Existing Values"
      ]
    },
    {
      "cell_type": "code",
      "metadata": {
        "colab": {
          "base_uri": "https://localhost:8080/"
        },
        "id": "_WdRPB1Saoex",
        "outputId": "3ae6faad-0503-4fce-8de3-8d4bfcb08e03"
      },
      "source": [
        "d['Taha'] = '92323358330'      #update key1 value with chicken\n",
        "d"
      ],
      "execution_count": 39,
      "outputs": [
        {
          "output_type": "execute_result",
          "data": {
            "text/plain": [
              "{'Mouse': 'Cheese', 'Mustafa': 923212062374, 'Taha': '92323358330'}"
            ]
          },
          "metadata": {
            "tags": []
          },
          "execution_count": 39
        }
      ]
    },
    {
      "cell_type": "markdown",
      "metadata": {
        "id": "xWsul-Nsaoey"
      },
      "source": [
        "Here are all your dict keys"
      ]
    },
    {
      "cell_type": "code",
      "metadata": {
        "colab": {
          "base_uri": "https://localhost:8080/"
        },
        "id": "Bkfr45Z1aoey",
        "outputId": "c77156a4-0e3f-4e9d-d176-b98c90dc6b2c"
      },
      "source": [
        "d.keys()"
      ],
      "execution_count": 40,
      "outputs": [
        {
          "output_type": "execute_result",
          "data": {
            "text/plain": [
              "dict_keys(['Taha', 'Mustafa', 'Mouse'])"
            ]
          },
          "metadata": {
            "tags": []
          },
          "execution_count": 40
        }
      ]
    },
    {
      "cell_type": "markdown",
      "metadata": {
        "id": "CP722Ri_aoey"
      },
      "source": [
        "Here are all you dict values"
      ]
    },
    {
      "cell_type": "code",
      "metadata": {
        "colab": {
          "base_uri": "https://localhost:8080/"
        },
        "id": "PfUCirh0aoez",
        "outputId": "589709b4-cb75-450d-f4d5-89c5326b7e22"
      },
      "source": [
        "d.values()"
      ],
      "execution_count": 41,
      "outputs": [
        {
          "output_type": "execute_result",
          "data": {
            "text/plain": [
              "dict_values(['92323358330', 923212062374, 'Cheese'])"
            ]
          },
          "metadata": {
            "tags": []
          },
          "execution_count": 41
        }
      ]
    },
    {
      "cell_type": "markdown",
      "metadata": {
        "id": "WcfHHx5aaoez"
      },
      "source": [
        "Here are all your dict items (key/value pairs) "
      ]
    },
    {
      "cell_type": "code",
      "metadata": {
        "colab": {
          "base_uri": "https://localhost:8080/"
        },
        "id": "C53i34s9aoez",
        "outputId": "526b3f54-f78e-4220-b9c2-78fc378f5893"
      },
      "source": [
        "d.items()"
      ],
      "execution_count": 42,
      "outputs": [
        {
          "output_type": "execute_result",
          "data": {
            "text/plain": [
              "dict_items([('Taha', '92323358330'), ('Mustafa', 923212062374), ('Mouse', 'Cheese')])"
            ]
          },
          "metadata": {
            "tags": []
          },
          "execution_count": 42
        }
      ]
    },
    {
      "cell_type": "code",
      "metadata": {
        "id": "wf7fm4zvcON5"
      },
      "source": [
        ""
      ],
      "execution_count": null,
      "outputs": []
    }
  ]
}